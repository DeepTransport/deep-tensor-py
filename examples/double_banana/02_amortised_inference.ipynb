{
 "cells": [
  {
   "cell_type": "code",
   "execution_count": 10,
   "id": "26a73599",
   "metadata": {},
   "outputs": [],
   "source": [
    "import importlib\n",
    "\n",
    "from matplotlib import pyplot as plt\n",
    "import torch\n",
    "from torch import Tensor\n",
    "\n",
    "import deep_tensor as dt\n",
    "\n",
    "from examples.double_banana.double_banana import DoubleBanana\n",
    "from examples.plotting import corner_plot"
   ]
  },
  {
   "cell_type": "code",
   "execution_count": 11,
   "id": "64f28a7a",
   "metadata": {},
   "outputs": [
    {
     "data": {
      "text/plain": [
       "<module 'deep_tensor' from '/Users/adeb0907/Documents/usyd/deep-tensor-py/deep_tensor/__init__.py'>"
      ]
     },
     "execution_count": 11,
     "metadata": {},
     "output_type": "execute_result"
    }
   ],
   "source": [
    "plt.style.use(\"../plotstyle.mplstyle\")\n",
    "torch.manual_seed(1)\n",
    "\n",
    "importlib.reload(dt)"
   ]
  },
  {
   "cell_type": "markdown",
   "id": "1e17c53a",
   "metadata": {},
   "source": [
    "Build BAE-inspired preconditioner"
   ]
  },
  {
   "cell_type": "code",
   "execution_count": 12,
   "id": "32687fb7",
   "metadata": {},
   "outputs": [],
   "source": [
    "poly = dt.Lagrange1(num_elems=30)\n",
    "\n",
    "sigma = 0.3\n",
    "data = torch.tensor([3.0, 5.0])\n",
    "model = DoubleBanana(sigma, data)\n",
    "\n",
    "# Build linear sample-based preconditioner\n",
    "n_xs = 1000\n",
    "xs = torch.normal(0.0, 1.0, size=(n_xs, 2))\n",
    "ys = model.param_to_obs(xs)\n",
    "samples = torch.hstack((ys, xs))\n",
    "\n",
    "preconditioner = dt.SampleBasedPreconditioner(samples)"
   ]
  },
  {
   "cell_type": "markdown",
   "id": "b776d544",
   "metadata": {},
   "source": [
    "Build DIRT object for the joint density"
   ]
  },
  {
   "cell_type": "code",
   "execution_count": 13,
   "id": "c8dd427d",
   "metadata": {},
   "outputs": [
    {
     "name": "stdout",
     "output_type": "stream",
     "text": [
      "\u001b[32m[DIRT]\u001b[0m Iter:  1 | Cum. Fevals: 2.00e+03 | Cum. Time: 2.11e-02 s | Beta: 0.0001 | ESS: 0.9988\n",
      "\u001b[94m[ALS]\u001b[0m  Iter | Func Evals | Max Rank | Max Local Error | Mean Local Error | Max Debug Error | Mean Debug Error\n",
      "\u001b[94m[ALS]\u001b[0m     1 |      16492 |       22 |     1.00000e+00 |      1.00000e+00 |     1.61962e-02 |      6.28852e-03\n",
      "\u001b[94m[ALS]\u001b[0m  TT-cross complete. Final TT ranks: [22, 22, 1].\n",
      "\u001b[32m[DIRT]\u001b[0m Iter:  2 | Cum. Fevals: 3.70e+04 | Cum. Time: 9.54e-02 s | Beta: 0.0132 | ESS: 0.5014 | DHell: 0.0044\n",
      "\u001b[94m[ALS]\u001b[0m  Iter | Func Evals | Max Rank | Max Local Error | Mean Local Error | Max Debug Error | Mean Debug Error\n",
      "\u001b[94m[ALS]\u001b[0m     1 |      17143 |       24 |     8.50784e-01 |      7.48471e-01 |     1.26647e+00 |      3.89890e-01\n",
      "\u001b[94m[ALS]\u001b[0m  TT-cross complete. Final TT ranks: [24, 21, 1].\n",
      "\u001b[32m[DIRT]\u001b[0m Iter:  3 | Cum. Fevals: 7.33e+04 | Cum. Time: 3.74e-01 s | Beta: 0.0882 | ESS: 0.4766 | DHell: 0.0907\n",
      "\u001b[94m[ALS]\u001b[0m  Iter | Func Evals | Max Rank | Max Local Error | Mean Local Error | Max Debug Error | Mean Debug Error\n",
      "\u001b[94m[ALS]\u001b[0m     1 |      20181 |       26 |     8.78529e-01 |      8.07844e-01 |     7.75011e-01 |      3.93561e-01\n",
      "\u001b[94m[ALS]\u001b[0m  TT-cross complete. Final TT ranks: [26, 23, 1].\n",
      "\u001b[32m[DIRT]\u001b[0m Iter:  4 | Cum. Fevals: 1.16e+05 | Cum. Time: 1.07e+00 s | Beta: 0.4001 | ESS: 0.4437 | DHell: 0.1138\n",
      "\u001b[94m[ALS]\u001b[0m  Iter | Func Evals | Max Rank | Max Local Error | Mean Local Error | Max Debug Error | Mean Debug Error\n",
      "\u001b[94m[ALS]\u001b[0m  Building block 2 / 3...\r"
     ]
    },
    {
     "name": "stderr",
     "output_type": "stream",
     "text": [
      "/Users/adeb0907/Documents/usyd/deep-tensor-py/deep_tensor/polynomials/cdf_1d.py:271: UserWarning: Regula falsi did not converge (86 unconverged samples). Maximum residual: 9.3400e-05.\n",
      "  warnings.warn(msg)\n"
     ]
    },
    {
     "name": "stdout",
     "output_type": "stream",
     "text": [
      "\u001b[94m[ALS]\u001b[0m     1 |      23467 |       28 |     5.24098e-01 |      5.13670e-01 |     7.57166e-01 |      3.05050e-01\n",
      "\u001b[94m[ALS]\u001b[0m  TT-cross complete. Final TT ranks: [28, 25, 1].\n",
      "\u001b[32m[DIRT]\u001b[0m Iter:  5 | Cum. Fevals: 1.65e+05 | Cum. Time: 2.17e+00 s | Beta: 1.0000 | ESS: 0.4546 | DHell: 0.1480\n",
      "\u001b[94m[ALS]\u001b[0m  Iter | Func Evals | Max Rank | Max Local Error | Mean Local Error | Max Debug Error | Mean Debug Error\n",
      "\u001b[94m[ALS]\u001b[0m     1 |      27001 |       30 |     8.28918e-01 |      7.03403e-01 |     7.88920e-01 |      2.65924e-01\n",
      "\u001b[94m[ALS]\u001b[0m  TT-cross complete. Final TT ranks: [30, 27, 1].\n",
      "\u001b[32m[DIRT]\u001b[0m DIRT construction complete.\n",
      "\u001b[32m[DIRT]\u001b[0m  • Layers: 5.\n",
      "\u001b[32m[DIRT]\u001b[0m  • Total function evaluations: 218568.\n",
      "\u001b[32m[DIRT]\u001b[0m  • Total time: 3.26 s.\n"
     ]
    }
   ],
   "source": [
    "bridge = dt.Tempering()\n",
    "\n",
    "dirt = dt.DIRT(\n",
    "    model.neglogpri_joint,\n",
    "    model.negloglik_joint, \n",
    "    preconditioner, \n",
    "    poly, \n",
    "    bridge=bridge\n",
    ")"
   ]
  },
  {
   "cell_type": "code",
   "execution_count": 14,
   "id": "9fdc6a0d",
   "metadata": {},
   "outputs": [],
   "source": [
    "xs_test = torch.randn((10, 2))\n",
    "ys_test = model.param_to_obs(xs_test)\n",
    "# ys_test += model.var_error * torch.randn_like(ys_test)  # add error\n",
    "\n",
    "# For DHell\n",
    "n_rs = 50_000\n",
    "rs = dirt.reference.random(d=2, n=n_rs)"
   ]
  },
  {
   "cell_type": "code",
   "execution_count": 15,
   "id": "7466d8de",
   "metadata": {},
   "outputs": [],
   "source": [
    "def plot_density_comparison(xs_grid, ys_grid, fxs_true, fxs_dirt, x_true, dhell, fname):\n",
    "\n",
    "    fig, axes = plt.subplots(\n",
    "        nrows=1, ncols=2, \n",
    "        figsize=(8, 4), \n",
    "        sharex=True, sharey=True\n",
    "    )\n",
    "    \n",
    "    axes[0].pcolormesh(xs_grid, ys_grid, fxs_true, rasterized=True)\n",
    "    axes[1].pcolormesh(xs_grid, ys_grid, fxs_dirt, rasterized=True)\n",
    "    axes[0].set_title(r\"$f(x)$ (True)\")\n",
    "    axes[1].set_title(r\"$\\hat{f}(x)$ (DIRT)\")\n",
    "    axes[0].set_ylabel(r\"$x_{1}$\")\n",
    "\n",
    "    for ax in axes:\n",
    "        ax.scatter(*x_true, c=\"k\", marker=\"x\", s=5)\n",
    "        ax.set_xlabel(r\"$x_{0}$\")\n",
    "\n",
    "    plt.suptitle(r\"$\\mathcal{D}_{\\mathrm{H}}$\"+f\": {dhell:.4f}\")\n",
    "    plt.savefig(fname)\n",
    "    \n",
    "    return"
   ]
  },
  {
   "cell_type": "markdown",
   "id": "c4dffe96",
   "metadata": {},
   "source": [
    "Generate a grid to evaluate the target PDF on."
   ]
  },
  {
   "cell_type": "code",
   "execution_count": null,
   "id": "98d8c15c",
   "metadata": {},
   "outputs": [],
   "source": [
    "n_grid = 100\n",
    "\n",
    "xs_grid = torch.linspace(-3.0, 3.0, n_grid)\n",
    "ys_grid = torch.linspace(-3.0, 3.0, n_grid)\n",
    "\n",
    "dx = xs_grid[1] - xs_grid[0]\n",
    "grid = torch.tensor([[x, y] for y in ys_grid for x in xs_grid])"
   ]
  },
  {
   "cell_type": "code",
   "execution_count": null,
   "id": "8becc737",
   "metadata": {},
   "outputs": [],
   "source": [
    "# for i, y_i in enumerate(ys_test):\n",
    "\n",
    "#     y_is = y_i.repeat(n_grid**2, 1)\n",
    "#     yx_is = torch.hstack((y_is, grid))\n",
    "\n",
    "#     # Evaluate true conditional density on grid\n",
    "#     neglogfxs_true = model.potential_joint(yx_is)\n",
    "#     fxs_true = torch.exp(-neglogfxs_true)\n",
    "#     fxs_true /= (fxs_true.sum() * dx**2)\n",
    "#     fxs_true = fxs_true.reshape(n_grid, n_grid)\n",
    "\n",
    "#     # Evaluate CIRT density on grid\n",
    "#     neglogfxs_ys = dirt.eval_potential(y_is)\n",
    "#     rs_grid, neglogfxs_grid = dirt.eval_rt(torch.hstack((y_is, grid)))\n",
    "#     neglogfxs_dirt = neglogfxs_grid - neglogfxs_ys\n",
    "#     fxs_dirt = torch.exp(-neglogfxs_dirt).reshape(n_grid, n_grid)\n",
    "\n",
    "#     # Estimate Hellinger distance\n",
    "#     xs, neglogfxs_dirt = dirt.eval_cirt(y_i, rs)\n",
    "#     yxs = torch.hstack((y_i.repeat(n_rs, 1), xs))\n",
    "#     neglogfxs_true = model.potential_joint(yxs)\n",
    "\n",
    "#     def potential(xs: Tensor) -> Tensor:\n",
    "#         y_is = y_i.repeat(xs.shape[0], 1)\n",
    "#         yxs = torch.hstack((y_is, xs))\n",
    "#         return model.potential_joint(yxs)\n",
    "    \n",
    "#     ms = dt.run_dirt_pcn(potential, dirt, n=1_000, dt=10.0, y_obs=y_i)\n",
    "\n",
    "#     fig, ax = plt.subplots()\n",
    "#     ax.pcolormesh(xs_grid, ys_grid, fxs_true, rasterized=True)\n",
    "#     ax.plot(*ms[:10].T, c=\"white\")\n",
    "#     plt.show()\n",
    "\n",
    "    # dhell2 = dt.compute_f_divergence(-neglogfxs_dirt, -neglogfxs_true, div=\"h2\")\n",
    "    # dhell = dhell2.sqrt()\n",
    "    # print(f\"Posterior {i}: DHell {dhell:.4f}\")\n",
    "\n",
    "    # plot_density_comparison(\n",
    "    #     xs_grid, \n",
    "    #     ys_grid, \n",
    "    #     fxs_true, \n",
    "    #     fxs_dirt, \n",
    "    #     xs_test[i], \n",
    "    #     dhell=dhell, \n",
    "    #     fname=f\"figures/02_posterior_{i}.pdf\"\n",
    "    # )\n",
    "\n"
   ]
  },
  {
   "cell_type": "markdown",
   "id": "00a8ab6a",
   "metadata": {},
   "source": [
    "Run pCN-MCMC"
   ]
  },
  {
   "cell_type": "code",
   "execution_count": null,
   "id": "afa6133d",
   "metadata": {},
   "outputs": [],
   "source": [
    "for i, y_i in enumerate(ys_test):\n",
    "\n",
    "    def potential(xs: Tensor) -> Tensor:\n",
    "        y_is = y_i.repeat(xs.shape[0], 1)\n",
    "        yxs = torch.hstack((y_is, xs))\n",
    "        return model.potential_joint(yxs)\n",
    "    \n",
    "    res = dt.run_dirt_pcn(potential, dirt, n=5000, y_obs=y_i)\n",
    "    print(res.acceptance_rate)\n",
    "\n",
    "    rs = dirt.reference.random(d=2, n=5000)\n",
    "    xs, neglogfxs_cirt = dirt.eval_cirt(y_i, rs)\n",
    "    neglogfxs = potential(xs)\n",
    "\n",
    "    res = dt.run_independence_sampler(xs, neglogfxs_cirt, neglogfxs)\n",
    "    print(res.acceptance_rate)\n",
    "\n",
    "    res = dt.run_importance_sampling(neglogfxs_cirt, neglogfxs)\n",
    "    print(res.ess)"
   ]
  }
 ],
 "metadata": {
  "kernelspec": {
   "display_name": "deep-tensor-examples",
   "language": "python",
   "name": "python3"
  },
  "language_info": {
   "codemirror_mode": {
    "name": "ipython",
    "version": 3
   },
   "file_extension": ".py",
   "mimetype": "text/x-python",
   "name": "python",
   "nbconvert_exporter": "python",
   "pygments_lexer": "ipython3",
   "version": "3.10.17"
  }
 },
 "nbformat": 4,
 "nbformat_minor": 5
}
